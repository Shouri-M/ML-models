{
  "nbformat": 4,
  "nbformat_minor": 0,
  "metadata": {
    "colab": {
      "name": "Untitled7.ipynb",
      "provenance": []
    },
    "kernelspec": {
      "name": "python3",
      "display_name": "Python 3"
    },
    "language_info": {
      "name": "python"
    }
  },
  "cells": [
    {
      "cell_type": "code",
      "execution_count": 3,
      "metadata": {
        "colab": {
          "base_uri": "https://localhost:8080/"
        },
        "id": "4FYyhFFeTduE",
        "outputId": "13997054-b744-4e0a-e4a6-9042abadcb35"
      },
      "outputs": [
        {
          "output_type": "stream",
          "name": "stdout",
          "text": [
            "Mounted at /content/drive\n"
          ]
        }
      ],
      "source": [
        "from google.colab import drive\n",
        "drive.mount('/content/drive')"
      ]
    },
    {
      "cell_type": "code",
      "source": [
        "import matplotlib.pyplot as plt\n",
        "import seaborn as sns\n",
        "sns.set_style(\"white\")\n",
        "%matplotlib inline\n",
        "#for matrix math\n",
        "import numpy as np\n",
        "#for normalization + probability density function computation\n",
        "from scipy import stats\n",
        "#for data preprocessing\n",
        "import pandas as pd\n",
        "from math import sqrt, log, exp, pi\n",
        "from random import uniform\n",
        "print(\"import done\")"
      ],
      "metadata": {
        "colab": {
          "base_uri": "https://localhost:8080/"
        },
        "id": "P-0xcT44YCB1",
        "outputId": "9ba522aa-84b0-4906-bc40-db799daa2d30"
      },
      "execution_count": 11,
      "outputs": [
        {
          "output_type": "stream",
          "name": "stdout",
          "text": [
            "import done\n"
          ]
        }
      ]
    },
    {
      "cell_type": "code",
      "source": [
        "random_seed=36788765\n",
        "np.random.seed(random_seed)\n",
        "\n",
        "Mean1 = 2.0  # Input parameter, mean of first normal probability distribution\n",
        "Standard_dev1 =  3.8#@param {type:\"number\"}\n",
        "Mean2 = 9.0 # Input parameter, mean of second normal  probability distribution\n",
        "Standard_dev2 = 2.5 #@param {type:\"number\"}\n",
        "\n",
        "# generate data\n",
        "y1 = np.random.normal(Mean1, Standard_dev1, 1000)\n",
        "y2 = np.random.normal(Mean2, Standard_dev2, 500)\n",
        "data=np.append(y1,y2)\n",
        "\n",
        "# For data visiualisation calculate left and right of the graph\n",
        "Min_graph = min(data)\n",
        "Max_graph = max(data)\n",
        "x = np.linspace(Min_graph, Max_graph, 2000) # to plot the data\n",
        "\n",
        "print('Input Gaussian {:}: μ = {:.2}, σ = {:.2}'.format(\"1\", Mean1, Standard_dev1))\n",
        "print('Input Gaussian {:}: μ = {:.2}, σ = {:.2}'.format(\"2\", Mean2, Standard_dev2))\n",
        "sns.distplot(data, bins=20, kde=False);"
      ],
      "metadata": {
        "colab": {
          "base_uri": "https://localhost:8080/",
          "height": 354
        },
        "id": "k-4nTQFjYCrd",
        "outputId": "c66c0736-eff4-445b-cdbf-873d6d9f4bc0"
      },
      "execution_count": 17,
      "outputs": [
        {
          "output_type": "stream",
          "name": "stdout",
          "text": [
            "Input Gaussian 1: μ = 2.0, σ = 3.8\n",
            "Input Gaussian 2: μ = 9.0, σ = 2.5\n"
          ]
        },
        {
          "output_type": "stream",
          "name": "stderr",
          "text": [
            "/usr/local/lib/python3.7/dist-packages/seaborn/distributions.py:2619: FutureWarning: `distplot` is a deprecated function and will be removed in a future version. Please adapt your code to use either `displot` (a figure-level function with similar flexibility) or `histplot` (an axes-level function for histograms).\n",
            "  warnings.warn(msg, FutureWarning)\n"
          ]
        },
        {
          "output_type": "display_data",
          "data": {
            "text/plain": [
              "<Figure size 432x288 with 1 Axes>"
            ],
            "image/png": "[encoded data removed]"
          },
          "metadata": {
            "needs_background": "light"
          }
        }
      ]
    },
    {
      "cell_type": "code",
      "source": [
        "class GaussianMixture_self:\n",
        "    \"Model mixture of two univariate Gaussians and their EM estimation\"\n",
        "\n",
        "    def __init__(self, data, mu_min=min(data), mu_max=max(data), sigma_min=1, sigma_max=1, mix=.5):\n",
        "        self.data = data\n",
        "        #todo the Algorithm would be numerical enhanced by normalizing the data first, next do all the EM steps and do the de-normalising at the end\n",
        "        \n",
        "        #init with multiple gaussians\n",
        "        self.one = Gaussian(uniform(mu_min, mu_max), \n",
        "                            uniform(sigma_min, sigma_max))\n",
        "        self.two = Gaussian(uniform(mu_min, mu_max), \n",
        "                            uniform(sigma_min, sigma_max))\n",
        "        \n",
        "        #as well as how much to mix them\n",
        "        self.mix = mix\n",
        "\n",
        "    def Estep(self):\n",
        "        \"Perform an E(stimation)-step, assign each point to gaussian 1 or 2 with a percentage\"\n",
        "        # compute weights\n",
        "        self.loglike = 0. # = log(p = 1)\n",
        "        for datum in self.data:  \n",
        "            # unnormalized weights\n",
        "            wp1 = self.one.pdf(datum) * self.mix\n",
        "            wp2 = self.two.pdf(datum) * (1. - self.mix)\n",
        "            # compute denominator\n",
        "            den = wp1 + wp2\n",
        "            # normalize\n",
        "            wp1 /= den   \n",
        "            wp2 /= den     # wp1+wp2= 1, it either belongs to gaussian 1 or gaussion 2\n",
        "            # add into loglike\n",
        "            self.loglike += log(den) #freshening up self.loglike in the process\n",
        "            # yield weight tuple\n",
        "            yield (wp1, wp2)\n",
        "\n",
        "    def Mstep(self, weights):\n",
        "        \"Perform an M(aximization)-step\"\n",
        "        # compute denominators\n",
        "        (left, rigt) = zip(*weights) \n",
        "        one_den = sum(left)\n",
        "        two_den = sum(rigt)\n",
        "\n",
        "        # compute new means\n",
        "        self.one.mu = sum(w * d  for (w, d) in zip(left, data)) / one_den\n",
        "        self.two.mu = sum(w * d  for (w, d) in zip(rigt, data)) / two_den\n",
        "        \n",
        "        # compute new sigmas\n",
        "        self.one.sigma = sqrt(sum(w * ((d - self.one.mu) ** 2)\n",
        "                                  for (w, d) in zip(left, data)) / one_den)\n",
        "        self.two.sigma = sqrt(sum(w * ((d - self.two.mu) ** 2)\n",
        "                                  for (w, d) in zip(rigt, data)) / two_den)\n",
        "        # compute new mix\n",
        "        self.mix = one_den / len(data)\n",
        "\n",
        "        \n",
        "    def iterate(self, N=1, verbose=False):\n",
        "        \"Perform N iterations, then compute log-likelihood\"\n",
        "        for i in range(1, N+1):\n",
        "            self.Mstep(self.Estep()) #The heart of the algorith, perform E-stepand next M-step\n",
        "            if verbose:\n",
        "                print('{0:2} {1}'.format(i, self))\n",
        "        self.Estep() # to freshen up self.loglike\n",
        "\n",
        "    def pdf(self, x):\n",
        "        return (self.mix)*self.one.pdf(x) + (1-self.mix)*self.two.pdf(x)\n",
        "        \n",
        "    def __repr__(self):\n",
        "        return 'GaussianMixture({0}, {1}, mix={2.03})'.format(self.one, \n",
        "                                                              self.two, \n",
        "                                                              self.mix)\n",
        "\n",
        "    def __str__(self):\n",
        "        return 'Mixture: {0}, {1}, mix={2:.03})'.format(self.one, \n",
        "                                                        self.two, \n",
        "                                                        self.mix)\n",
        "print(\"done\")"
      ],
      "metadata": {
        "colab": {
          "base_uri": "https://localhost:8080/"
        },
        "id": "xknnqu0VYGCs",
        "outputId": "a553ea58-a1db-4c46-a096-ded38f2364c0"
      },
      "execution_count": 18,
      "outputs": [
        {
          "output_type": "stream",
          "name": "stdout",
          "text": [
            "done\n"
          ]
        }
      ]
    },
    {
      "cell_type": "code",
      "source": [
        "best_single = Gaussian(np.mean(data), np.std(data))\n",
        "print('Best single Gaussian: μ = {:.2}, σ = {:.2}'.format(best_single.mu, best_single.sigma))\n",
        "#fit a single gaussian curve to the data\n",
        "g_single = stats.norm(best_single.mu, best_single.sigma).pdf(x)\n",
        "sns.distplot(data, bins=20, kde=False, norm_hist=True);\n",
        "plt.plot(x, g_single, label='single gaussian');\n",
        "plt.legend();"
      ],
      "metadata": {
        "colab": {
          "base_uri": "https://localhost:8080/",
          "height": 337
        },
        "id": "Cnc5WzEpYOpc",
        "outputId": "69365a2e-0454-4507-b033-451041724f99"
      },
      "execution_count": 19,
      "outputs": [
        {
          "output_type": "stream",
          "name": "stdout",
          "text": [
            "Best single Gaussian: μ = 4.5, σ = 4.7\n"
          ]
        },
        {
          "output_type": "stream",
          "name": "stderr",
          "text": [
            "/usr/local/lib/python3.7/dist-packages/seaborn/distributions.py:2619: FutureWarning: `distplot` is a deprecated function and will be removed in a future version. Please adapt your code to use either `displot` (a figure-level function with similar flexibility) or `histplot` (an axes-level function for histograms).\n",
            "  warnings.warn(msg, FutureWarning)\n"
          ]
        },
        {
          "output_type": "display_data",
          "data": {
            "text/plain": [
              "<Figure size 432x288 with 1 Axes>"
            ],
            "image/png": "[encoded data removed]"
          },
          "metadata": {
            "needs_background": "light"
          }
        }
      ]
    },
    {
      "cell_type": "code",
      "source": [
        ""
      ],
      "metadata": {
        "id": "krFJg2swYQvM"
      },
      "execution_count": null,
      "outputs": []
    }
  ]
}