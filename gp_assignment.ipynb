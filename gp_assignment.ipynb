{
  "cells": [
    {
      "cell_type": "markdown",
      "metadata": {
        "id": "dJgVZCEJS4Dq"
      },
      "source": [
        "# First things first\n",
        "Click **File -> Save a copy in Drive** and click **Open in new tab** in the pop-up window to save your progress in Google Drive."
      ]
    },
    {
      "cell_type": "markdown",
      "metadata": {
        "id": "pss9OSgbS4Dw"
      },
      "source": [
        "# Gaussian processes and Bayesian optimization"
      ]
    },
    {
      "cell_type": "markdown",
      "metadata": {
        "id": "QhW4asazS4Dy"
      },
      "source": [
        "In this assignment you will learn how to use <a href=\"http://sheffieldml.github.io/GPy/\">GPy</a> and <a href=\"http://sheffieldml.github.io/GPyOpt/\">GPyOpt</a> libraries to deal with gaussian processes. These libraries provide quite simple and inuitive interfaces for training and inference, and we will try to get familiar with them in a few tasks."
      ]
    },
    {
      "cell_type": "markdown",
      "metadata": {
        "id": "FWqkRlFXS4D0"
      },
      "source": [
        "### Setup\n",
        "Load auxiliary files and then install and import the necessary libraries."
      ]
    },
    {
      "cell_type": "code",
      "execution_count": null,
      "metadata": {
        "id": "wmCi5nYvS4D3"
      },
      "outputs": [],
      "source": [
        "try:\n",
        "    import google.colab\n",
        "    IN_COLAB = True\n",
        "except:\n",
        "    IN_COLAB = False\n",
        "if IN_COLAB:\n",
        "    print(\"Downloading Colab files\")\n",
        "    ! shred -u setup_google_colab.py\n",
        "    ! wget https://raw.githubusercontent.com/hse-aml/bayesian-methods-for-ml/master/setup_google_colab.py -O setup_google_colab.py\n",
        "    import setup_google_colab\n",
        "    setup_google_colab.load_data_week6()"
      ]
    },
    {
      "cell_type": "code",
      "execution_count": null,
      "metadata": {
        "id": "lRfcMXhPS4D4"
      },
      "outputs": [],
      "source": [
        "! pip install GPy gpyopt xgboost"
      ]
    },
    {
      "cell_type": "code",
      "execution_count": null,
      "metadata": {
        "id": "KHmsMT56S4D5"
      },
      "outputs": [],
      "source": [
        "import numpy as np\n",
        "import GPy\n",
        "import GPyOpt\n",
        "import matplotlib.pyplot as plt\n",
        "from sklearn.svm import SVR\n",
        "import sklearn.datasets\n",
        "from xgboost import XGBRegressor\n",
        "from sklearn.model_selection import cross_val_score\n",
        "import time\n",
        "from w6_grader import GPGrader\n",
        "%matplotlib inline"
      ]
    },
    {
      "cell_type": "markdown",
      "metadata": {
        "id": "r_zuADYLS4D6"
      },
      "source": [
        "### Grading\n",
        "We will create a grader instace below and use it to collect your answers. Note that these outputs will be stored locally inside grader and will be uploaded to platform only after running submiting function in the last part of this assignment. If you want to make partial submission, you can run that cell any time you want."
      ]
    },
    {
      "cell_type": "code",
      "execution_count": null,
      "metadata": {
        "id": "a8gjzar0S4D7"
      },
      "outputs": [],
      "source": [
        "grader = GPGrader()"
      ]
    },
    {
      "cell_type": "markdown",
      "metadata": {
        "id": "9WvpotD6S4D-"
      },
      "source": [
        "## Gaussian processes: GPy (<a href=\"http://pythonhosted.org/GPy/\">documentation</a>)"
      ]
    },
    {
      "cell_type": "markdown",
      "metadata": {
        "collapsed": true,
        "id": "v8W8GNO-S4D_"
      },
      "source": [
        "We will start with a simple regression problem, for which we will try to fit a Gaussian Process with RBF kernel."
      ]
    },
    {
      "cell_type": "code",
      "execution_count": null,
      "metadata": {
        "id": "v2A-GML2S4EC"
      },
      "outputs": [],
      "source": [
        "def generate_points(n=25, noise_variance=0.0036):\n",
        "    np.random.seed(777)\n",
        "    X = np.random.uniform(-3., 3., (n, 1))\n",
        "    y = np.sin(X) + np.random.randn(n, 1) * noise_variance**0.5\n",
        "    return X, y\n",
        "    \n",
        "def generate_noise(n=25, noise_variance=0.0036):\n",
        "    np.random.seed(777)\n",
        "    X = np.random.uniform(-3., 3., (n, 1))\n",
        "    y = np.random.randn(n, 1) * noise_variance**0.5\n",
        "    return X, y"
      ]
    },
    {
      "cell_type": "code",
      "execution_count": null,
      "metadata": {
        "id": "HSnlB57YS4ED"
      },
      "outputs": [],
      "source": [
        "# Create data points\n",
        "X, y = generate_points()\n",
        "plt.plot(X, y, '.')\n",
        "plt.show()"
      ]
    },
    {
      "cell_type": "markdown",
      "metadata": {
        "id": "sfgj_h52S4ED"
      },
      "source": [
        "To fit a Gaussian Process, you will need to define a kernel. For Gaussian (GBF) kernel you can use `GPy.kern.RBF` function."
      ]
    },
    {
      "cell_type": "markdown",
      "metadata": {
        "id": "l9C1RdylS4ED"
      },
      "source": [
        "<b> Task 1.1: </b> Create RBF kernel with variance 1.5 and length-scale parameter 2 for 1D samples and compute value of the kernel between points `X[5]` and `X[9]`. Submit a single number. \n",
        "<br><b>Hint:</b> use `.K` property of kernel object."
      ]
    },
    {
      "cell_type": "code",
      "execution_count": null,
      "metadata": {
        "id": "Jo2hphPVS4EE"
      },
      "outputs": [],
      "source": [
        "kernel = ### YOUR CODE HERE\n",
        "kernel_59 = ### YOUR CODE HERE\n",
        "grader.submit_GPy_1(kernel_59)"
      ]
    },
    {
      "cell_type": "markdown",
      "metadata": {
        "id": "3F0lLonxS4EG"
      },
      "source": [
        "<b> Task 1.2: </b> Fit GP into generated data. Use kernel from previous task. Submit predicted mean and vairance at position $x=1$.\n",
        "<br><b>Hint:</b> use `GPy.models.GPRegression` class."
      ]
    },
    {
      "cell_type": "code",
      "execution_count": null,
      "metadata": {
        "id": "Up5jirS_S4EG"
      },
      "outputs": [],
      "source": [
        "model = ### YOUR CODE HERE\n",
        "mean = ### YOUR CODE HERE\n",
        "variance = ### YOUR CODE HERE\n",
        "grader.submit_GPy_2(mean, variance)"
      ]
    },
    {
      "cell_type": "code",
      "execution_count": null,
      "metadata": {
        "id": "PgKaJCckS4EH"
      },
      "outputs": [],
      "source": [
        "model.plot()\n",
        "plt.show()"
      ]
    },
    {
      "cell_type": "markdown",
      "metadata": {
        "id": "FHj35qLqS4EH"
      },
      "source": [
        "We see that the model didn't fit the data quite well. Let's try to fit kernel and noise parameters automatically as discussed in the lecture! You can see the current parameters below:"
      ]
    },
    {
      "cell_type": "code",
      "execution_count": null,
      "metadata": {
        "id": "VAXwRLuFS4EI"
      },
      "outputs": [],
      "source": [
        "model"
      ]
    },
    {
      "cell_type": "markdown",
      "metadata": {
        "id": "0oUtflooS4EI"
      },
      "source": [
        "<b> Task 1.3: </b> Optimize length-scale, variance and noise component of the model and submit optimal length-scale value of the kernel. \n",
        "<br><b>Hint:</b> Use `.optimize()` function of the model and `.lengthscale` property of the kernel."
      ]
    },
    {
      "cell_type": "code",
      "execution_count": null,
      "metadata": {
        "id": "rdxyOZXHS4EJ"
      },
      "outputs": [],
      "source": [
        "### YOUR CODE HERE\n",
        "grader.submit_GPy_3(lengthscale)"
      ]
    },
    {
      "cell_type": "code",
      "execution_count": null,
      "metadata": {
        "id": "A81S79eIS4EK"
      },
      "outputs": [],
      "source": [
        "model.plot()\n",
        "plt.show()"
      ]
    },
    {
      "cell_type": "markdown",
      "metadata": {
        "id": "wBHqUnR4S4EL"
      },
      "source": [
        "As you see, the process generates outputs just right. Let's see if GP can figure out itself when we try to fit it into noise or signal."
      ]
    },
    {
      "cell_type": "markdown",
      "metadata": {
        "id": "Q3_PpeWsS4EL"
      },
      "source": [
        "<b> Task 1.4: </b> Generate two datasets: sinusoid wihout noise and samples from gaussian noise. Optimize kernel parameters and submit optimal values of noise component.\n",
        "<br><b>Note:</b> generate data only using ```generate_points(n, noise_variance)``` and ```generate_noise(n, noise_variance)``` function!"
      ]
    },
    {
      "cell_type": "code",
      "execution_count": null,
      "metadata": {
        "id": "S23oHqjWS4EM"
      },
      "outputs": [],
      "source": [
        "X, y = generate_noise(noise_variance=10)\n",
        "### YOUR CODE HERE"
      ]
    },
    {
      "cell_type": "code",
      "execution_count": null,
      "metadata": {
        "id": "XQoQANRoS4EM"
      },
      "outputs": [],
      "source": [
        "X, y = generate_points(noise_variance=0)\n",
        "### YOUR CODE HERE"
      ]
    },
    {
      "cell_type": "code",
      "execution_count": null,
      "metadata": {
        "id": "7HPUGd0sS4EN"
      },
      "outputs": [],
      "source": [
        "grader.submit_GPy_4(noise, just_signal)"
      ]
    },
    {
      "cell_type": "markdown",
      "metadata": {
        "id": "HvX6kw__S4EN"
      },
      "source": [
        "## Sparse GP\n",
        "Now let's consider the speed of GP. We will generate a dataset of 3000 points and measure the time that is consumed for prediction of mean and variance for each point. We will then try to use inducing inputs and find the optimal number of points according to quality-time tradeoff.\n",
        "\n",
        "For the sparse model with inducing points, you should use ```GPy.models.SparseGPRegression``` class. You can set the number of inducing inputs with parameter ```num_inducing``` and optimize their positions and values with ```.optimize()``` call."
      ]
    },
    {
      "cell_type": "markdown",
      "metadata": {
        "id": "NUWzeerzS4EO"
      },
      "source": [
        "<b>Task 1.5</b>: Create a dataset of 1000 points and fit GPRegression. Measure time for predicting mean and variance at position $x=1$. Then fit `SparseGPRegression` with 10 inducing inputs and repeat the experiment. Report speedup as a ratio between consumed time without and with inducing inputs."
      ]
    },
    {
      "cell_type": "code",
      "execution_count": null,
      "metadata": {
        "id": "UXJKXyCiS4EO"
      },
      "outputs": [],
      "source": [
        "X, y = generate_points(1000)"
      ]
    },
    {
      "cell_type": "code",
      "execution_count": null,
      "metadata": {
        "id": "F5PkwbgCS4EP"
      },
      "outputs": [],
      "source": [
        "start = time.time()\n",
        "### YOUR CODE HERE\n",
        "time_gp = time.time()-start"
      ]
    },
    {
      "cell_type": "code",
      "execution_count": null,
      "metadata": {
        "id": "X_ZUas-5S4EQ"
      },
      "outputs": [],
      "source": [
        "start = time.time()\n",
        "### YOUR CODE HERE\n",
        "time_sgp = time.time()-start"
      ]
    },
    {
      "cell_type": "code",
      "execution_count": null,
      "metadata": {
        "id": "YZhWs1oZS4ER"
      },
      "outputs": [],
      "source": [
        "model.plot()\n",
        "plt.show()"
      ]
    },
    {
      "cell_type": "code",
      "execution_count": null,
      "metadata": {
        "id": "w2LBRx4qS4ER"
      },
      "outputs": [],
      "source": [
        "grader.submit_GPy_5(time_gp / time_sgp)"
      ]
    },
    {
      "cell_type": "markdown",
      "metadata": {
        "id": "WXc0DbSJS4ES"
      },
      "source": [
        "## Bayesian optimization: GPyOpt (<a href=\"http://pythonhosted.org/GPyOpt/\">documentation</a>, <a href=\"http://nbviewer.jupyter.org/github/SheffieldML/GPyOpt/blob/master/manual/index.ipynb\">tutorials</a>)"
      ]
    },
    {
      "cell_type": "markdown",
      "metadata": {
        "id": "FjXUlyOeS4ES"
      },
      "source": [
        "In this part of the assignment, we will try to find optimal hyperparameters to XGBoost model! We will use data from a small competition to speed things up, but keep in mind that the approach works even for large datasets.\n",
        "\n",
        "We will use diabetes dataset provided in sklearn package."
      ]
    },
    {
      "cell_type": "code",
      "execution_count": null,
      "metadata": {
        "id": "AE9xHMqVS4ET"
      },
      "outputs": [],
      "source": [
        "dataset = sklearn.datasets.load_diabetes()\n",
        "X = dataset['data']\n",
        "y = dataset['target']"
      ]
    },
    {
      "cell_type": "markdown",
      "metadata": {
        "id": "7bXxvLacS4ET"
      },
      "source": [
        "We will use cross-validation score to estimate accuracy and our goal will be to tune: ```max_depth```, ```learning_rate```, ```n_estimators``` parameters. The baseline MSE with default XGBoost parameters is $0.2$. Let's see if we can do better. First, we have to define optimization function and domains."
      ]
    },
    {
      "cell_type": "code",
      "execution_count": null,
      "metadata": {
        "id": "Ln0npsULS4EV"
      },
      "outputs": [],
      "source": [
        "# Score. Optimizer will try to find minimum, so we will add a \"-\" sign.\n",
        "def f(parameters):\n",
        "    parameters = parameters[0]\n",
        "    score = -cross_val_score(\n",
        "        XGBRegressor(learning_rate=parameters[0],\n",
        "                     max_depth=int(parameters[2]),\n",
        "                     n_estimators=int(parameters[3]),\n",
        "                     gamma=int(parameters[1]),\n",
        "                     min_child_weight = parameters[4]), \n",
        "        X, y, scoring='neg_mean_squared_error'\n",
        "    ).mean()\n",
        "    score = np.array(score)\n",
        "    return score"
      ]
    },
    {
      "cell_type": "code",
      "execution_count": null,
      "metadata": {
        "id": "euvyZarDS4EV"
      },
      "outputs": [],
      "source": [
        "baseline = -cross_val_score(\n",
        "    XGBRegressor(), X, y, scoring='neg_mean_squared_error'\n",
        ").mean()\n",
        "baseline"
      ]
    },
    {
      "cell_type": "code",
      "execution_count": null,
      "metadata": {
        "id": "hOjNz6iRS4EW"
      },
      "outputs": [],
      "source": [
        "# Bounds (NOTE: define continuous variables first, then discrete!)\n",
        "bounds = [\n",
        "    {'name': 'learning_rate',\n",
        "     'type': 'continuous',\n",
        "     'domain': (0, 1)},\n",
        "\n",
        "    {'name': 'gamma',\n",
        "     'type': 'continuous',\n",
        "     'domain': (0, 5)},\n",
        "\n",
        "    {'name': 'max_depth',\n",
        "     'type': 'discrete',\n",
        "     'domain': (1, 50)},\n",
        "\n",
        "    {'name': 'n_estimators',\n",
        "     'type': 'discrete',\n",
        "     'domain': (1, 300)},\n",
        "\n",
        "    {'name': 'min_child_weight',\n",
        "     'type': 'discrete',\n",
        "     'domain': (1, 10)}\n",
        "]"
      ]
    },
    {
      "cell_type": "code",
      "execution_count": null,
      "metadata": {
        "scrolled": false,
        "id": "9r0vNiBRS4EW"
      },
      "outputs": [],
      "source": [
        "np.random.seed(777)\n",
        "optimizer = GPyOpt.methods.BayesianOptimization(\n",
        "    f=f, domain=bounds,\n",
        "    acquisition_type ='MPI',\n",
        "    acquisition_par = 0.1,\n",
        "    exact_eval=True\n",
        ")"
      ]
    },
    {
      "cell_type": "code",
      "execution_count": null,
      "metadata": {
        "id": "KUwrrHLpS4EX"
      },
      "outputs": [],
      "source": [
        "max_iter = 50\n",
        "max_time = 60\n",
        "optimizer.run_optimization(max_iter, max_time)"
      ]
    },
    {
      "cell_type": "code",
      "execution_count": null,
      "metadata": {
        "id": "0AvoMdeyS4EX"
      },
      "outputs": [],
      "source": [
        "optimizer.plot_convergence()"
      ]
    },
    {
      "cell_type": "markdown",
      "metadata": {
        "id": "Di-d8t8bS4EY"
      },
      "source": [
        "Best values of parameters:"
      ]
    },
    {
      "cell_type": "code",
      "execution_count": null,
      "metadata": {
        "id": "5fl3bFv5S4EY"
      },
      "outputs": [],
      "source": [
        "optimizer.X[np.argmin(optimizer.Y)]"
      ]
    },
    {
      "cell_type": "code",
      "execution_count": null,
      "metadata": {
        "id": "QeHFd4jPS4EY"
      },
      "outputs": [],
      "source": [
        "print('MSE:', np.min(optimizer.Y),\n",
        "      'Gain:', baseline/np.min(optimizer.Y)*100)"
      ]
    },
    {
      "cell_type": "markdown",
      "metadata": {
        "id": "CJUPEdZBS4EZ"
      },
      "source": [
        "We were able to get 9% boost without tuning parameters by hand! Let's see if you can do the same. "
      ]
    },
    {
      "cell_type": "markdown",
      "metadata": {
        "id": "CWa0ilJXS4Ea"
      },
      "source": [
        "<b>Task 2.1:</b> Tune SVR model. Find optimal values for three parameters: `C`, `epsilon` and `gamma`. Use range (1e-5, 1000) for `C`, (1e-5, 10) for `epsilon` and `gamma`. Use MPI as an acquisition function with weight 0.1. Submit the optimal value of epsilon that was found by a model."
      ]
    },
    {
      "cell_type": "code",
      "execution_count": null,
      "metadata": {
        "id": "ph4XGWNwS4Ea"
      },
      "outputs": [],
      "source": [
        "### YOUR CODE HERE\n",
        "best_epsilon = ### YOUR CODE HERE\n",
        "grader.submit_GPyOpt_1(best_epsilon)"
      ]
    },
    {
      "cell_type": "markdown",
      "metadata": {
        "id": "jHl5XVuCS4Ea"
      },
      "source": [
        "<b>Task 2.2:</b> For the model above submit boost in improvement that you got after tuning hyperparameters (output percents) [e.g. if baseline MSE was 40 and you got 20, output number 200]"
      ]
    },
    {
      "cell_type": "code",
      "execution_count": null,
      "metadata": {
        "id": "vJbi2FOyS4Eb"
      },
      "outputs": [],
      "source": [
        "performance_boost = ### YOUR CODE HERE\n",
        "grader.submit_GPyOpt_2(performance_boost*100)"
      ]
    },
    {
      "cell_type": "markdown",
      "metadata": {
        "id": "vCckCBEBS4Eb"
      },
      "source": [
        "# Authorization & Submission\n",
        "To submit assignment parts to Cousera platform, please, enter your e-mail and token into variables below. You can generate a token on this programming assignment's page. <b>Note:</b> The token expires 30 minutes after generation."
      ]
    },
    {
      "cell_type": "code",
      "execution_count": null,
      "metadata": {
        "id": "Eq3_eQ2AS4Eb"
      },
      "outputs": [],
      "source": [
        "STUDENT_EMAIL = # EMAIL HERE\n",
        "STUDENT_TOKEN = # TOKEN HERE\n",
        "grader.status()"
      ]
    },
    {
      "cell_type": "markdown",
      "metadata": {
        "id": "x8nJjpxGS4Ec"
      },
      "source": [
        "If you want to submit these answers, run cell below"
      ]
    },
    {
      "cell_type": "code",
      "execution_count": null,
      "metadata": {
        "id": "-kzQrT2cS4Ec"
      },
      "outputs": [],
      "source": [
        "grader.submit(STUDENT_EMAIL, STUDENT_TOKEN)"
      ]
    }
  ],
  "metadata": {
    "kernelspec": {
      "display_name": "Python 3",
      "language": "python",
      "name": "python3"
    },
    "language_info": {
      "codemirror_mode": {
        "name": "ipython",
        "version": 3
      },
      "file_extension": ".py",
      "mimetype": "text/x-python",
      "name": "python",
      "nbconvert_exporter": "python",
      "pygments_lexer": "ipython3",
      "version": "3.6.7"
    },
    "latex_envs": {
      "bibliofile": "biblio.bib",
      "cite_by": "apalike",
      "current_citInitial": 1,
      "eqLabelWithNumbers": true,
      "eqNumInitial": 0
    },
    "colab": {
      "provenance": []
    }
  },
  "nbformat": 4,
  "nbformat_minor": 0
}